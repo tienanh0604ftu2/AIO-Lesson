{
 "cells": [
  {
   "cell_type": "markdown",
   "id": "2333b985-1319-4594-a8c1-319ce50214c7",
   "metadata": {},
   "source": [
    "# The probability of heads or tails when flipping a coin"
   ]
  },
  {
   "cell_type": "code",
   "execution_count": 38,
   "id": "2b50649c-aeea-4f43-892d-b3d805603278",
   "metadata": {},
   "outputs": [
    {
     "name": "stdout",
     "output_type": "stream",
     "text": [
      "The probability of tails appearing is 0.5\n",
      "The probability of heads appearing is 0.5\n"
     ]
    }
   ],
   "source": [
    "import random\n",
    "\n",
    "total_flips = 0 # The number of coin flips\n",
    "total_tails = 0 # The number of times tails appears\n",
    "total_heads = 0 # The number of time heads appears\n",
    "\n",
    "for _ in range(10000):\n",
    "    value = random.random()\n",
    "    if value < 0.5:\n",
    "        total_tails += 1\n",
    "    else:\n",
    "        total_heads += 1\n",
    "    total_flips += 1\n",
    "\n",
    "print(f\"The probability of tails appearing is {round(total_tails/total_flips,2)}\")\n",
    "print(f\"The probability of heads appearing is {round(total_heads/total_flips,2)}\")"
   ]
  },
  {
   "cell_type": "markdown",
   "id": "3525196a-0d93-4f9e-ac44-c714beedfb02",
   "metadata": {},
   "source": [
    "# Estimate the number e"
   ]
  },
  {
   "cell_type": "code",
   "execution_count": 9,
   "id": "3a2e7278-d9fa-4faf-9106-956188f12ad0",
   "metadata": {},
   "outputs": [],
   "source": [
    "def factorial(n):\n",
    "    result = 1\n",
    "    for i in range(1,n+1):\n",
    "        result *= i\n",
    "    return result"
   ]
  },
  {
   "cell_type": "code",
   "execution_count": 11,
   "id": "fa9f590c-0665-47f7-9ef9-2eae657c78ee",
   "metadata": {},
   "outputs": [],
   "source": [
    "def estimate_e(n):\n",
    "    result = 1\n",
    "    for i in range(1,n+1):\n",
    "        result += 1/ factorial(i)\n",
    "    return result"
   ]
  },
  {
   "cell_type": "code",
   "execution_count": 13,
   "id": "f4054c1b-88cc-404e-be6e-c7a336ef97a8",
   "metadata": {},
   "outputs": [
    {
     "data": {
      "text/plain": [
       "2.7182818284590455"
      ]
     },
     "execution_count": 13,
     "metadata": {},
     "output_type": "execute_result"
    }
   ],
   "source": [
    "estimate_e(1000)"
   ]
  },
  {
   "cell_type": "code",
   "execution_count": null,
   "id": "cf9a139b-a1de-443e-8966-da9c8e9bafd8",
   "metadata": {},
   "outputs": [],
   "source": []
  },
  {
   "cell_type": "markdown",
   "id": "04909204-33a6-4772-9013-098e48b48425",
   "metadata": {},
   "source": [
    "# Newton's square root estimation"
   ]
  },
  {
   "cell_type": "code",
   "execution_count": 14,
   "id": "b979c8bb-6540-4fa2-8f3a-898d20248db0",
   "metadata": {},
   "outputs": [],
   "source": [
    "def estimate_square_root(N, n_loop):\n",
    "    x = N/2\n",
    "    for _ in range(n_loop):\n",
    "        x = (x + N/x)/2\n",
    "    return x"
   ]
  },
  {
   "cell_type": "code",
   "execution_count": 46,
   "id": "58ccc85a-82b7-4d32-9fa7-71580d6df643",
   "metadata": {},
   "outputs": [
    {
     "data": {
      "text/plain": [
       "5.000000000016778"
      ]
     },
     "execution_count": 46,
     "metadata": {},
     "output_type": "execute_result"
    }
   ],
   "source": [
    "estimate_square_root(25,5)"
   ]
  },
  {
   "cell_type": "code",
   "execution_count": null,
   "id": "61c84cf5-7395-4d90-b599-a70f5ba58ff9",
   "metadata": {},
   "outputs": [],
   "source": []
  }
 ],
 "metadata": {
  "kernelspec": {
   "display_name": "Python 3 (ipykernel)",
   "language": "python",
   "name": "python3"
  },
  "language_info": {
   "codemirror_mode": {
    "name": "ipython",
    "version": 3
   },
   "file_extension": ".py",
   "mimetype": "text/x-python",
   "name": "python",
   "nbconvert_exporter": "python",
   "pygments_lexer": "ipython3",
   "version": "3.11.7"
  },
  "widgets": {
   "application/vnd.jupyter.widget-state+json": {
    "state": {},
    "version_major": 2,
    "version_minor": 0
   }
  }
 },
 "nbformat": 4,
 "nbformat_minor": 5
}
