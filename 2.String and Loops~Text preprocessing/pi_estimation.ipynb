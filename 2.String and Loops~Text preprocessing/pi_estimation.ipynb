{
 "cells": [
  {
   "cell_type": "markdown",
   "id": "1988a070-d84c-422a-93e1-d5a82e587e76",
   "metadata": {},
   "source": [
    "# Gregory-Leibniz Series"
   ]
  },
  {
   "cell_type": "code",
   "execution_count": 1,
   "id": "24613a40-0b45-483f-b03f-1c1d48630c38",
   "metadata": {},
   "outputs": [
    {
     "name": "stdout",
     "output_type": "stream",
     "text": [
      "Estimated PI is  3.1414926535900345\n"
     ]
    }
   ],
   "source": [
    "n = 10000\n",
    "PI = 0\n",
    "for i in range(1, n+1):    \n",
    "    PI = PI + (-1)**(i+1) / (2*i - 1)\n",
    "PI = PI*4\n",
    "\n",
    "print('Estimated PI is ', PI)"
   ]
  },
  {
   "cell_type": "code",
   "execution_count": null,
   "id": "0d1ebc8b-4a38-48b2-a194-b314d6605ffb",
   "metadata": {},
   "outputs": [],
   "source": []
  },
  {
   "cell_type": "markdown",
   "id": "2ca48062-eebe-4ff8-a8da-33ea382f4180",
   "metadata": {},
   "source": [
    "# Nilakantha Series"
   ]
  },
  {
   "cell_type": "code",
   "execution_count": 2,
   "id": "57974e47-d872-43b6-98c2-7b7d54883e0b",
   "metadata": {},
   "outputs": [
    {
     "name": "stdout",
     "output_type": "stream",
     "text": [
      "Estimated PI is  3.1414067184965018\n"
     ]
    }
   ],
   "source": [
    "n = 10\n",
    "PI = 0\n",
    "for i in range(n):\n",
    "    PI = PI + (-1)**(i) / ((2*i+2)*(2*i+3)*(2*i+4))\n",
    "PI = 3 + 4*PI\n",
    "\n",
    "print('Estimated PI is ', PI)"
   ]
  },
  {
   "cell_type": "code",
   "execution_count": null,
   "id": "e817c82c-960a-4106-9fa1-a12a83deff5f",
   "metadata": {},
   "outputs": [],
   "source": []
  },
  {
   "cell_type": "markdown",
   "id": "213b7deb-feaf-45ed-a7ff-682f0ea2c972",
   "metadata": {},
   "source": [
    "# Uniform distribution"
   ]
  },
  {
   "cell_type": "code",
   "execution_count": 5,
   "id": "a454c1b8-718f-4939-ae46-fb006cbe9d1b",
   "metadata": {},
   "outputs": [],
   "source": [
    "import math\n",
    "import random\n",
    "\n",
    "N = 100000\n",
    "n = 0\n",
    "\n",
    "for _ in range(N):\n",
    "    x = 2* random.random() - 1\n",
    "    y = 2* random.random() - 1\n",
    "    if x**2 + y**2 <=1:\n",
    "        n += 1\n",
    "pi_estimation = 4* n/ N"
   ]
  },
  {
   "cell_type": "code",
   "execution_count": 6,
   "id": "25b63e60-ed54-4b9e-98d2-155e5f631ae8",
   "metadata": {},
   "outputs": [
    {
     "name": "stdout",
     "output_type": "stream",
     "text": [
      "3.14016\n"
     ]
    }
   ],
   "source": [
    "print(pi_estimation)"
   ]
  },
  {
   "cell_type": "code",
   "execution_count": null,
   "id": "de1e5d85-a10f-4309-a61a-675b28e6b743",
   "metadata": {},
   "outputs": [],
   "source": []
  },
  {
   "cell_type": "markdown",
   "id": "e0d4dd1e-f71a-4dee-9a41-06d81726bd44",
   "metadata": {},
   "source": [
    "# The method of integration."
   ]
  },
  {
   "cell_type": "code",
   "execution_count": 7,
   "id": "299e4285-e070-4380-bdfa-9722f2f5b153",
   "metadata": {},
   "outputs": [],
   "source": [
    "import math\n",
    "def compute_y(x):\n",
    "    return math.sqrt(1 - x**2)"
   ]
  },
  {
   "cell_type": "code",
   "execution_count": 10,
   "id": "48390d4c-0f68-4fe9-8820-f53b8ed75cec",
   "metadata": {},
   "outputs": [],
   "source": [
    "def es_pi(delta_x):\n",
    "    x_start = -1\n",
    "    n = int(2 / delta_x)\n",
    "    pi = 0\n",
    "    for _ in range(n):\n",
    "        pi += compute_y(x_start) * delta_x\n",
    "        x_start += delta_x\n",
    "    pi *= 2\n",
    "    return pi"
   ]
  },
  {
   "cell_type": "code",
   "execution_count": 12,
   "id": "eeba5e14-8fe6-4e88-84ff-5feaddc6fe36",
   "metadata": {},
   "outputs": [
    {
     "name": "stdout",
     "output_type": "stream",
     "text": [
      "3.1415914776115907\n"
     ]
    }
   ],
   "source": [
    "print(es_pi(0.0001))"
   ]
  },
  {
   "cell_type": "code",
   "execution_count": null,
   "id": "928482fc-8e3a-4602-8b20-7deb61306c88",
   "metadata": {},
   "outputs": [],
   "source": []
  }
 ],
 "metadata": {
  "kernelspec": {
   "display_name": "Python 3 (ipykernel)",
   "language": "python",
   "name": "python3"
  },
  "language_info": {
   "codemirror_mode": {
    "name": "ipython",
    "version": 3
   },
   "file_extension": ".py",
   "mimetype": "text/x-python",
   "name": "python",
   "nbconvert_exporter": "python",
   "pygments_lexer": "ipython3",
   "version": "3.11.7"
  },
  "widgets": {
   "application/vnd.jupyter.widget-state+json": {
    "state": {},
    "version_major": 2,
    "version_minor": 0
   }
  }
 },
 "nbformat": 4,
 "nbformat_minor": 5
}
