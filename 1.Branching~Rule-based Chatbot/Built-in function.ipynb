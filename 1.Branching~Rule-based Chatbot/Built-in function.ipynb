{
 "cells": [
  {
   "cell_type": "code",
   "execution_count": 3,
   "id": "55e00950-72ef-4c7e-91e6-c9f719fc024b",
   "metadata": {},
   "outputs": [
    {
     "name": "stdin",
     "output_type": "stream",
     "text": [
      "Value:  Ak\n"
     ]
    },
    {
     "name": "stdout",
     "output_type": "stream",
     "text": [
      "Ak\n",
      "<class 'str'>\n"
     ]
    }
   ],
   "source": [
    "# Prompt the user to enter input from the keyboard.\n",
    "value = input(\"Value: \")\n",
    "print(value)\n",
    "print(type(value))"
   ]
  },
  {
   "cell_type": "code",
   "execution_count": null,
   "id": "7275d53d-3807-4e1c-85dc-590d9a4f4df2",
   "metadata": {},
   "outputs": [],
   "source": []
  },
  {
   "cell_type": "code",
   "execution_count": 18,
   "id": "ea761aa3-a1bd-4f7e-87a1-f21fdd6bb051",
   "metadata": {},
   "outputs": [
    {
     "name": "stdin",
     "output_type": "stream",
     "text": [
      "Value:  5\n"
     ]
    }
   ],
   "source": [
    "value = input(\"Value: \")\n",
    "try:\n",
    "    int(value)\n",
    "except ValueError:\n",
    "    print(\"The type of value must be an integer, please enter again.\")"
   ]
  },
  {
   "cell_type": "code",
   "execution_count": null,
   "id": "58d5a23a-88bb-44ad-9c23-1a817e3f12e5",
   "metadata": {},
   "outputs": [],
   "source": []
  },
  {
   "cell_type": "markdown",
   "id": "68942cdf-799d-4b60-9178-5d94e32670d7",
   "metadata": {},
   "source": [
    "# Takes an angle in degrees as input and outputs the angle in radians"
   ]
  },
  {
   "cell_type": "code",
   "execution_count": 22,
   "id": "af83cd7a-2a4b-496b-a1ac-dadb7e0f6087",
   "metadata": {},
   "outputs": [
    {
     "name": "stdin",
     "output_type": "stream",
     "text": [
      "Enter the angle (in degrees):  90\n"
     ]
    },
    {
     "name": "stdout",
     "output_type": "stream",
     "text": [
      "The angle 90.0 degrees is equivalent to 1.5707963267948966 radians.\n"
     ]
    }
   ],
   "source": [
    "import math\n",
    "\n",
    "# Input angle in degrees from the user\n",
    "degree = float(input(\"Enter the angle (in degrees): \"))\n",
    "\n",
    "# Convert degrees to radians\n",
    "radian = math.pi * degree / 180\n",
    "\n",
    "# Print the result\n",
    "print(f\"The angle {degree} degrees is equivalent to {radian} radians.\")\n"
   ]
  },
  {
   "cell_type": "code",
   "execution_count": null,
   "id": "4836844b-225d-401f-b1e1-6917acccce59",
   "metadata": {},
   "outputs": [],
   "source": []
  },
  {
   "cell_type": "markdown",
   "id": "2c9512a5-be89-4ba5-a03d-e73a6cb56dfe",
   "metadata": {},
   "source": [
    "#  Converting temperature from Celsius to Fahrenheit"
   ]
  },
  {
   "cell_type": "code",
   "execution_count": 24,
   "id": "3bcb18c3-fe9b-422b-85f0-84d0f08991d4",
   "metadata": {},
   "outputs": [
    {
     "name": "stdin",
     "output_type": "stream",
     "text": [
      "Enter temperature in Celsius:  40\n"
     ]
    },
    {
     "name": "stdout",
     "output_type": "stream",
     "text": [
      "Temperature in Fahrenheit is:  104.0\n"
     ]
    }
   ],
   "source": [
    "# input\n",
    "temp_c = float(input('Enter temperature in Celsius: '))\n",
    "\n",
    "# process\n",
    "temp_f = ((9 / 5) * temp_c) + 32\n",
    "\n",
    "# output\n",
    "print('Temperature in Fahrenheit is: ', temp_f)"
   ]
  },
  {
   "cell_type": "code",
   "execution_count": null,
   "id": "de89244d-aba0-4989-b07a-4879c9b8bd2c",
   "metadata": {},
   "outputs": [],
   "source": []
  },
  {
   "cell_type": "markdown",
   "id": "536acfac-5d0f-4d50-8ce9-fa3f9dc1fba8",
   "metadata": {},
   "source": [
    "# # Right Triangle Checker\n"
   ]
  },
  {
   "cell_type": "code",
   "execution_count": 26,
   "id": "6285ce4a-67be-4788-b46c-581023640efc",
   "metadata": {},
   "outputs": [
    {
     "name": "stdin",
     "output_type": "stream",
     "text": [
      "Enter three values a, b, c separated by spaces:  3 4 5\n"
     ]
    },
    {
     "name": "stdout",
     "output_type": "stream",
     "text": [
      "Is it a right triangle?  True\n"
     ]
    }
   ],
   "source": [
    "# Right Triangle Checker\n",
    "\n",
    "# Request user input for values a, b, c\n",
    "a, b, c = map(int, input(\"Enter three values a, b, c separated by spaces: \").split())\n",
    "\n",
    "# Check if it's a right triangle\n",
    "is_right_triangle = (a**2 + b**2 == c**2) or (a**2 + c**2 == b**2) or (b**2 + c**2 == a**2)\n",
    "\n",
    "# Print the result\n",
    "print('Is it a right triangle? ', is_right_triangle)"
   ]
  },
  {
   "cell_type": "code",
   "execution_count": null,
   "id": "c210f718-f68f-4b14-8a97-c98359a14dc1",
   "metadata": {},
   "outputs": [],
   "source": []
  }
 ],
 "metadata": {
  "kernelspec": {
   "display_name": "Python 3 (ipykernel)",
   "language": "python",
   "name": "python3"
  },
  "language_info": {
   "codemirror_mode": {
    "name": "ipython",
    "version": 3
   },
   "file_extension": ".py",
   "mimetype": "text/x-python",
   "name": "python",
   "nbconvert_exporter": "python",
   "pygments_lexer": "ipython3",
   "version": "3.11.7"
  },
  "widgets": {
   "application/vnd.jupyter.widget-state+json": {
    "state": {},
    "version_major": 2,
    "version_minor": 0
   }
  }
 },
 "nbformat": 4,
 "nbformat_minor": 5
}
