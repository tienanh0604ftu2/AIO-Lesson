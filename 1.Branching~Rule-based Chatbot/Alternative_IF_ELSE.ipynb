{
 "cells": [
  {
   "cell_type": "markdown",
   "id": "c89b02aa-1ab7-4e71-ba70-b8380b7fecee",
   "metadata": {},
   "source": [
    "# Problem 1"
   ]
  },
  {
   "cell_type": "code",
   "execution_count": 25,
   "id": "bf9882a0-e230-49a2-8cd7-74a504121e8a",
   "metadata": {},
   "outputs": [],
   "source": [
    "# Way 1\n",
    "import math\n",
    "def function_1(a,b):\n",
    "    K = 10\n",
    "    y = 0\n",
    "    if a == 0:\n",
    "        y = b**2\n",
    "    elif a == K:\n",
    "        y = math.sqrt(b)\n",
    "    return y"
   ]
  },
  {
   "cell_type": "code",
   "execution_count": 26,
   "id": "92f7618a-082b-41b6-895f-0a51340118e6",
   "metadata": {},
   "outputs": [],
   "source": [
    "# Way 2\n",
    "def function_2(a,b):\n",
    "    K = 10\n",
    "    return (a/K) * math.sqrt(b) +  ((K-a)/ K) * (b**2)"
   ]
  },
  {
   "cell_type": "code",
   "execution_count": 27,
   "id": "6bb8db81-2785-473f-9213-fa98bd91045f",
   "metadata": {},
   "outputs": [
    {
     "name": "stdout",
     "output_type": "stream",
     "text": [
      "2.23606797749979\n",
      "2.23606797749979\n"
     ]
    }
   ],
   "source": [
    "# Test\n",
    "print(function_1(10,5))\n",
    "print(function_2(10,5))"
   ]
  },
  {
   "cell_type": "markdown",
   "id": "fe35ce34-d900-468f-80d5-5f0d7f50af0f",
   "metadata": {},
   "source": [
    "# Problem 2"
   ]
  },
  {
   "cell_type": "code",
   "execution_count": 32,
   "id": "e0f1d394-8710-4fff-ad60-5a237b5e26b4",
   "metadata": {},
   "outputs": [],
   "source": [
    "# way1\n",
    "import math\n",
    "def function_3(a,b):\n",
    "    y = 0\n",
    "    if a > 0:\n",
    "        y = b**2\n",
    "    elif a < 0:\n",
    "        y = math.sqrt(b)\n",
    "    return y"
   ]
  },
  {
   "cell_type": "code",
   "execution_count": 35,
   "id": "359bf46d-73ac-4e72-98d2-41ab1d5fd9c8",
   "metadata": {},
   "outputs": [],
   "source": [
    "# Way 2\n",
    "import math\n",
    "def function_4(a,b):\n",
    "    return 0.5 * (b**2 + math.sqrt(b)) + (abs(a)/a)* (0.5 * (b**2 - math.sqrt(b)))"
   ]
  },
  {
   "cell_type": "code",
   "execution_count": 37,
   "id": "b801d8b3-72e9-429b-90ed-13910d13320a",
   "metadata": {},
   "outputs": [
    {
     "name": "stdout",
     "output_type": "stream",
     "text": [
      "9\n",
      "9.0\n"
     ]
    }
   ],
   "source": [
    "# Test\n",
    "print(function_3(10,3))\n",
    "print(function_4(10,3))"
   ]
  },
  {
   "cell_type": "markdown",
   "id": "aaeb4f86-5d9e-486d-b753-56bee6a73bf9",
   "metadata": {},
   "source": [
    "# Problem 3"
   ]
  },
  {
   "cell_type": "code",
   "execution_count": 38,
   "id": "65f81ba9-238b-4221-b472-44b3df6989af",
   "metadata": {},
   "outputs": [],
   "source": [
    "# way1\n",
    "def function_5(a,b):\n",
    "    y = 0\n",
    "    if a ==0:\n",
    "        y = b**2\n",
    "    elif a ==1:\n",
    "        y = math.sqrt(b)\n",
    "    elif a == 2:\n",
    "        y = b\n",
    "    return y"
   ]
  },
  {
   "cell_type": "code",
   "execution_count": 46,
   "id": "60a6b7e8-5a83-4462-a6a8-3ea7e6d646ce",
   "metadata": {},
   "outputs": [],
   "source": [
    "# way2\n",
    "import numpy as np\n",
    "def function_6(a,b):\n",
    "    vector_v = np.array([0,0,0])\n",
    "    vector_v[a] = 1\n",
    "    vector_u = np.array([b**2,math.sqrt(b),b])\n",
    "    return np.dot(vector_u,vector_v)"
   ]
  },
  {
   "cell_type": "code",
   "execution_count": 47,
   "id": "303add19-aa73-40d2-be49-5166cdf662b3",
   "metadata": {},
   "outputs": [
    {
     "name": "stdout",
     "output_type": "stream",
     "text": [
      "2.23606797749979\n",
      "2.23606797749979\n"
     ]
    }
   ],
   "source": [
    "# Test\n",
    "print(function_5(1,5))\n",
    "print(function_6(1,5))"
   ]
  },
  {
   "cell_type": "markdown",
   "id": "2e7920d4-ae7c-42ea-b46b-47a8f8dd7177",
   "metadata": {},
   "source": [
    "# Problem 4 Mixed Condition"
   ]
  },
  {
   "cell_type": "code",
   "execution_count": 48,
   "id": "30ba585f-78f7-4059-8fb9-dd241004478b",
   "metadata": {},
   "outputs": [],
   "source": [
    "# Way 1\n",
    "def get_y(a):\n",
    "    y = 0\n",
    "    if a == 1:\n",
    "        y = 5\n",
    "    elif a == \"learning_rate\":\n",
    "        y = 0.1\n",
    "    elif a == \"optimizer\":\n",
    "        y = \"SGD\"\n",
    "    return y"
   ]
  },
  {
   "cell_type": "code",
   "execution_count": 50,
   "id": "c5d737e6-b55d-45ee-be55-ce5256b6aa57",
   "metadata": {},
   "outputs": [
    {
     "name": "stdout",
     "output_type": "stream",
     "text": [
      "SGD\n"
     ]
    }
   ],
   "source": [
    "# Way2\n",
    "option = {1:5,\"learning_rate\":0.1,\"optimizer\":\"SGD\"}\n",
    "print(option[\"optimizer\"])"
   ]
  }
 ],
 "metadata": {
  "kernelspec": {
   "display_name": "Python 3 (ipykernel)",
   "language": "python",
   "name": "python3"
  },
  "language_info": {
   "codemirror_mode": {
    "name": "ipython",
    "version": 3
   },
   "file_extension": ".py",
   "mimetype": "text/x-python",
   "name": "python",
   "nbconvert_exporter": "python",
   "pygments_lexer": "ipython3",
   "version": "3.11.7"
  },
  "widgets": {
   "application/vnd.jupyter.widget-state+json": {
    "state": {},
    "version_major": 2,
    "version_minor": 0
   }
  }
 },
 "nbformat": 4,
 "nbformat_minor": 5
}
