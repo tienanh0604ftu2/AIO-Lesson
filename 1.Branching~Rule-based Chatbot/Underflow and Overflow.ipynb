{
 "cells": [
  {
   "cell_type": "code",
   "execution_count": 6,
   "id": "69acd720-8e83-4bf1-9997-f5d0c29fe763",
   "metadata": {},
   "outputs": [
    {
     "name": "stdout",
     "output_type": "stream",
     "text": [
      "0.01\n"
     ]
    }
   ],
   "source": [
    "result = 1e-2\n",
    "print(result)"
   ]
  },
  {
   "cell_type": "code",
   "execution_count": 7,
   "id": "d69cba18-ed71-4c20-aa09-775c6113c30c",
   "metadata": {},
   "outputs": [
    {
     "name": "stdout",
     "output_type": "stream",
     "text": [
      "1000.0\n"
     ]
    }
   ],
   "source": [
    "result = 1e3\n",
    "print(result)"
   ]
  },
  {
   "cell_type": "markdown",
   "id": "e381812a-3434-4cd6-bd8d-a10f092c0dac",
   "metadata": {},
   "source": [
    "# Underflow"
   ]
  },
  {
   "cell_type": "code",
   "execution_count": 3,
   "id": "95c0f7ec-8e13-4892-8488-ede6b204c94d",
   "metadata": {},
   "outputs": [
    {
     "name": "stdout",
     "output_type": "stream",
     "text": [
      "0.0\n"
     ]
    }
   ],
   "source": [
    "result = 1e-1000\n",
    "print(result)"
   ]
  },
  {
   "cell_type": "code",
   "execution_count": 4,
   "id": "2c06a3e0-c996-4825-8a08-3691ac43cd7c",
   "metadata": {},
   "outputs": [
    {
     "name": "stdout",
     "output_type": "stream",
     "text": [
      "1e+100\n"
     ]
    }
   ],
   "source": [
    "result = 1e100\n",
    "print(result)"
   ]
  },
  {
   "cell_type": "markdown",
   "id": "7748188d-ac9d-494b-b309-41cfd8e24b55",
   "metadata": {},
   "source": [
    "# Overflow"
   ]
  },
  {
   "cell_type": "code",
   "execution_count": 5,
   "id": "b64aae70-bd9f-4563-af92-130ddc56cd48",
   "metadata": {},
   "outputs": [
    {
     "name": "stdout",
     "output_type": "stream",
     "text": [
      "inf\n"
     ]
    }
   ],
   "source": [
    "result = 1e1000\n",
    "print(result)"
   ]
  },
  {
   "cell_type": "code",
   "execution_count": null,
   "id": "9e89dd4f-284b-4894-bd2f-f836fd33accd",
   "metadata": {},
   "outputs": [],
   "source": []
  },
  {
   "cell_type": "markdown",
   "id": "1c6de72c-e78e-4bd7-bf2e-3419adbe87eb",
   "metadata": {},
   "source": [
    "# Softmax function"
   ]
  },
  {
   "cell_type": "code",
   "execution_count": 8,
   "id": "70b07eeb-5407-4184-920a-586eccf9988b",
   "metadata": {},
   "outputs": [
    {
     "name": "stdout",
     "output_type": "stream",
     "text": [
      "0.09003  0.24473   0.66524\n"
     ]
    }
   ],
   "source": [
    "import math\n",
    "\n",
    "# Given three values\n",
    "v1 = 1.0\n",
    "v2 = 2.0\n",
    "v3 = 3.0\n",
    "\n",
    "# compute softmax\n",
    "total = math.exp(v1) + math.exp(v2) + math.exp(v3)\n",
    "\n",
    "s1 = math.exp(v1)/total\n",
    "s2 = math.exp(v2)/total\n",
    "s3 = math.exp(v3)/total\n",
    "\n",
    "# print out\n",
    "print(f\"{s1:.5f}  {s2:.5f}   {s3:.5f}\")"
   ]
  },
  {
   "cell_type": "code",
   "execution_count": null,
   "id": "5b710517-5361-4ecb-8e66-0a964244a74b",
   "metadata": {},
   "outputs": [],
   "source": []
  },
  {
   "cell_type": "code",
   "execution_count": 10,
   "id": "b6471d6f-1579-42c5-9965-1276bc5a487d",
   "metadata": {},
   "outputs": [
    {
     "ename": "OverflowError",
     "evalue": "math range error",
     "output_type": "error",
     "traceback": [
      "\u001b[1;31m---------------------------------------------------------------------------\u001b[0m",
      "\u001b[1;31mOverflowError\u001b[0m                             Traceback (most recent call last)",
      "Cell \u001b[1;32mIn[10], line 10\u001b[0m\n\u001b[0;32m      7\u001b[0m v3 \u001b[38;5;241m=\u001b[39m \u001b[38;5;241m1003.0\u001b[39m\n\u001b[0;32m      9\u001b[0m \u001b[38;5;66;03m# compute softmax\u001b[39;00m\n\u001b[1;32m---> 10\u001b[0m total \u001b[38;5;241m=\u001b[39m math\u001b[38;5;241m.\u001b[39mexp(v1) \u001b[38;5;241m+\u001b[39m math\u001b[38;5;241m.\u001b[39mexp(v2) \u001b[38;5;241m+\u001b[39m math\u001b[38;5;241m.\u001b[39mexp(v3)\n\u001b[0;32m     12\u001b[0m s1 \u001b[38;5;241m=\u001b[39m math\u001b[38;5;241m.\u001b[39mexp(v1)\u001b[38;5;241m/\u001b[39mtotal\n\u001b[0;32m     13\u001b[0m s2 \u001b[38;5;241m=\u001b[39m math\u001b[38;5;241m.\u001b[39mexp(v2)\u001b[38;5;241m/\u001b[39mtotal\n",
      "\u001b[1;31mOverflowError\u001b[0m: math range error"
     ]
    }
   ],
   "source": [
    "# overflow\n",
    "import math\n",
    "\n",
    "# Given three values\n",
    "v1 = 1001.0\n",
    "v2 = 1002.0\n",
    "v3 = 1003.0\n",
    "\n",
    "# compute softmax\n",
    "total = math.exp(v1) + math.exp(v2) + math.exp(v3)\n",
    "\n",
    "s1 = math.exp(v1)/total\n",
    "s2 = math.exp(v2)/total\n",
    "s3 = math.exp(v3)/total\n",
    "\n",
    "# print out\n",
    "print(f\"{s1:.5f}  {s2:.5f}   {s3:.5f}\")"
   ]
  },
  {
   "cell_type": "code",
   "execution_count": null,
   "id": "727d2f3d-95df-4184-adad-0457206edaac",
   "metadata": {},
   "outputs": [],
   "source": []
  },
  {
   "cell_type": "code",
   "execution_count": null,
   "id": "01d6952c-6680-4b24-a244-824165d5e31d",
   "metadata": {},
   "outputs": [],
   "source": [
    "# solution"
   ]
  },
  {
   "cell_type": "code",
   "execution_count": 11,
   "id": "81a3f9c8-c6a1-4c3e-a0de-33d055859afe",
   "metadata": {},
   "outputs": [
    {
     "name": "stdout",
     "output_type": "stream",
     "text": [
      "0.09003  0.24473   0.66524\n"
     ]
    }
   ],
   "source": [
    "import math\n",
    "\n",
    "# Given three values\n",
    "v1 = 1.0\n",
    "v2 = 2.0\n",
    "v3 = 3.0\n",
    "\n",
    "# get max\n",
    "max_value = v3\n",
    "\n",
    "# compute stable softmax\n",
    "e_v1 = math.exp(v1 - max_value)\n",
    "e_v2 = math.exp(v2 - max_value)\n",
    "e_v3 = math.exp(v3 - max_value)\n",
    "\n",
    "total = e_v1 + e_v2 + e_v3\n",
    "\n",
    "s1 = e_v1/total\n",
    "s2 = e_v2/total\n",
    "s3 = e_v3/total\n",
    "\n",
    "# print out\n",
    "print(f\"{s1:.5f}  {s2:.5f}   {s3:.5f}\") "
   ]
  },
  {
   "cell_type": "code",
   "execution_count": null,
   "id": "b7712614-5d1e-4ec7-bcbf-960adac15151",
   "metadata": {},
   "outputs": [],
   "source": []
  },
  {
   "cell_type": "code",
   "execution_count": 12,
   "id": "9d93a113-f602-40ea-b891-e88de911ff2c",
   "metadata": {},
   "outputs": [
    {
     "name": "stdout",
     "output_type": "stream",
     "text": [
      "0.09003  0.24473   0.66524\n"
     ]
    }
   ],
   "source": [
    "import math\n",
    "\n",
    "# Given three values\n",
    "v1 = 1001.0\n",
    "v2 = 1002.0\n",
    "v3 = 1003.0\n",
    "\n",
    "# get max\n",
    "max_value = v3\n",
    "\n",
    "# compute stable softmax\n",
    "e_v1 = math.exp(v1 - max_value)\n",
    "e_v2 = math.exp(v2 - max_value)\n",
    "e_v3 = math.exp(v3 - max_value)\n",
    "\n",
    "total = e_v1 + e_v2 + e_v3\n",
    "\n",
    "s1 = e_v1/total\n",
    "s2 = e_v2/total\n",
    "s3 = e_v3/total\n",
    "\n",
    "# print out\n",
    "print(f\"{s1:.5f}  {s2:.5f}   {s3:.5f}\") "
   ]
  },
  {
   "cell_type": "code",
   "execution_count": null,
   "id": "447b494e-f531-45b5-84c4-ecc572d6515c",
   "metadata": {},
   "outputs": [],
   "source": []
  },
  {
   "cell_type": "code",
   "execution_count": 13,
   "id": "1044e2a8-327b-463e-8164-a461fc70d205",
   "metadata": {},
   "outputs": [
    {
     "name": "stdout",
     "output_type": "stream",
     "text": [
      "0.00000  0.26894   0.73106\n"
     ]
    }
   ],
   "source": [
    "import math\n",
    "\n",
    "# Given three values\n",
    "v1 = 1.0\n",
    "v2 = 1001.0\n",
    "v3 = 1002.0\n",
    "\n",
    "# get max\n",
    "max_value = v3\n",
    "\n",
    "# compute stable softmax\n",
    "e_v1 = math.exp(v1 - max_value)\n",
    "e_v2 = math.exp(v2 - max_value)\n",
    "e_v3 = math.exp(v3 - max_value)\n",
    "\n",
    "total = e_v1 + e_v2 + e_v3\n",
    "\n",
    "s1 = e_v1/total\n",
    "s2 = e_v2/total\n",
    "s3 = e_v3/total\n",
    "\n",
    "# print out\n",
    "print(f\"{s1:.5f}  {s2:.5f}   {s3:.5f}\")  "
   ]
  },
  {
   "cell_type": "code",
   "execution_count": null,
   "id": "1438d64c-9d8d-4ee6-b6c1-4f7cf0f0bb02",
   "metadata": {},
   "outputs": [],
   "source": []
  }
 ],
 "metadata": {
  "kernelspec": {
   "display_name": "Python 3 (ipykernel)",
   "language": "python",
   "name": "python3"
  },
  "language_info": {
   "codemirror_mode": {
    "name": "ipython",
    "version": 3
   },
   "file_extension": ".py",
   "mimetype": "text/x-python",
   "name": "python",
   "nbconvert_exporter": "python",
   "pygments_lexer": "ipython3",
   "version": "3.11.7"
  },
  "widgets": {
   "application/vnd.jupyter.widget-state+json": {
    "state": {},
    "version_major": 2,
    "version_minor": 0
   }
  }
 },
 "nbformat": 4,
 "nbformat_minor": 5
}
