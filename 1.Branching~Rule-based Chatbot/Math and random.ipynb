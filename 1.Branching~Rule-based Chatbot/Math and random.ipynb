{
 "cells": [
  {
   "cell_type": "markdown",
   "id": "68a7cbb2-900b-4cb9-9207-e833ddb8fee3",
   "metadata": {},
   "source": [
    "# absolute value of x"
   ]
  },
  {
   "cell_type": "code",
   "execution_count": 10,
   "id": "84ac7d8e-7236-459c-b90a-202f0346f821",
   "metadata": {},
   "outputs": [
    {
     "name": "stdout",
     "output_type": "stream",
     "text": [
      "1.0\n",
      "2.0\n"
     ]
    }
   ],
   "source": [
    "import math\n",
    "\n",
    "n1 = 1\n",
    "n2 = -2\n",
    "\n",
    "print(math.fabs(n1))\n",
    "print(math.fabs(n2))"
   ]
  },
  {
   "cell_type": "code",
   "execution_count": null,
   "id": "424b6489-7e40-4c92-b2de-41f8552aa738",
   "metadata": {},
   "outputs": [],
   "source": []
  },
  {
   "cell_type": "markdown",
   "id": "d51b4514-a0ca-4b9b-a846-73274ca34cb3",
   "metadata": {},
   "source": [
    "# exponential of x"
   ]
  },
  {
   "cell_type": "code",
   "execution_count": 15,
   "id": "12da5653-e646-4afc-a58a-e7b70b034eda",
   "metadata": {},
   "outputs": [
    {
     "name": "stdin",
     "output_type": "stream",
     "text": [
      "Enter the value of x:  5\n"
     ]
    },
    {
     "name": "stdout",
     "output_type": "stream",
     "text": [
      "148.4131591025766\n"
     ]
    }
   ],
   "source": [
    "import math\n",
    "x = float(input(\"Enter the value of x: \"))\n",
    "print(math.exp(x))"
   ]
  },
  {
   "cell_type": "code",
   "execution_count": null,
   "id": "8a914a4a-30e4-44f5-ac67-23dcc07b70c8",
   "metadata": {},
   "outputs": [],
   "source": []
  },
  {
   "cell_type": "markdown",
   "id": "88751bce-41a8-40e9-830f-6728174d9e07",
   "metadata": {},
   "source": [
    "# log(x)"
   ]
  },
  {
   "cell_type": "code",
   "execution_count": 34,
   "id": "4e3d4bd4-5a33-4183-aa60-ac5ddd6c6f4e",
   "metadata": {},
   "outputs": [
    {
     "name": "stdout",
     "output_type": "stream",
     "text": [
      "1.0\n"
     ]
    }
   ],
   "source": [
    "import math\n",
    "print(math.log(math.e))"
   ]
  },
  {
   "cell_type": "code",
   "execution_count": null,
   "id": "93762a31-516d-4ba0-8880-40bee3924b70",
   "metadata": {},
   "outputs": [],
   "source": []
  },
  {
   "cell_type": "markdown",
   "id": "a571d1b7-1477-42ad-93e1-e78ff06e2c0a",
   "metadata": {},
   "source": [
    "#  square root of x"
   ]
  },
  {
   "cell_type": "code",
   "execution_count": 22,
   "id": "308d67cc-637a-413d-b575-78f90bf5b693",
   "metadata": {},
   "outputs": [
    {
     "name": "stdin",
     "output_type": "stream",
     "text": [
      "Enter the value of x:  4\n"
     ]
    },
    {
     "name": "stdout",
     "output_type": "stream",
     "text": [
      "2.0\n"
     ]
    }
   ],
   "source": [
    "import math\n",
    "x = float(input(\"Enter the value of x: \"))\n",
    "print(math.sqrt(x))"
   ]
  },
  {
   "cell_type": "code",
   "execution_count": null,
   "id": "80b9226e-e33a-4930-9671-50b0abd349a3",
   "metadata": {},
   "outputs": [],
   "source": []
  },
  {
   "cell_type": "markdown",
   "id": "6f0dcc22-c217-4d43-aedd-aac0a6647cd6",
   "metadata": {},
   "source": [
    "# Sin(x)"
   ]
  },
  {
   "cell_type": "code",
   "execution_count": 28,
   "id": "93af6993-9a9f-4281-87d4-1516e27062a3",
   "metadata": {},
   "outputs": [
    {
     "name": "stdin",
     "output_type": "stream",
     "text": [
      "Enter the value of x:  180\n"
     ]
    },
    {
     "name": "stdout",
     "output_type": "stream",
     "text": [
      "-0.8011526357338304\n"
     ]
    }
   ],
   "source": [
    "import math\n",
    "x = float(input(\"Enter the value of x: \"))\n",
    "print(math.sin(x))"
   ]
  },
  {
   "cell_type": "code",
   "execution_count": null,
   "id": "783fe23d-ad44-42cb-aea9-2aad3c7e2f6f",
   "metadata": {},
   "outputs": [],
   "source": []
  },
  {
   "cell_type": "markdown",
   "id": "35de4288-ad26-499f-84a8-a1eae6e4af44",
   "metadata": {},
   "source": [
    "# cos(x)"
   ]
  },
  {
   "cell_type": "code",
   "execution_count": 30,
   "id": "ff1a9805-c434-496b-a4d5-ae4a12fc383a",
   "metadata": {},
   "outputs": [
    {
     "name": "stdin",
     "output_type": "stream",
     "text": [
      "Enter the value of x:  180\n"
     ]
    },
    {
     "name": "stdout",
     "output_type": "stream",
     "text": [
      "-0.5984600690578581\n"
     ]
    }
   ],
   "source": [
    "import math\n",
    "x = float(input(\"Enter the value of x: \"))\n",
    "print(math.cos(x))"
   ]
  },
  {
   "cell_type": "code",
   "execution_count": null,
   "id": "6a588812-7a11-4bfa-a531-8fb9206e3903",
   "metadata": {},
   "outputs": [],
   "source": []
  },
  {
   "cell_type": "markdown",
   "id": "4d8cca3a-e2f6-4693-b4f9-0437ef2508ea",
   "metadata": {},
   "source": [
    "#  the PI number"
   ]
  },
  {
   "cell_type": "code",
   "execution_count": 31,
   "id": "c81eeb2b-c278-471d-b424-a64a9944136e",
   "metadata": {},
   "outputs": [
    {
     "name": "stdout",
     "output_type": "stream",
     "text": [
      "3.141592653589793\n"
     ]
    }
   ],
   "source": [
    "import math\n",
    "print(math.pi)"
   ]
  },
  {
   "cell_type": "code",
   "execution_count": null,
   "id": "58facd52-c4c7-4658-9332-722d49fedab8",
   "metadata": {},
   "outputs": [],
   "source": []
  },
  {
   "cell_type": "markdown",
   "id": "15c7a1b5-88cf-40af-a823-4bce30f9e018",
   "metadata": {},
   "source": [
    "# the e number"
   ]
  },
  {
   "cell_type": "code",
   "execution_count": 32,
   "id": "962eb163-a84d-4feb-9a14-3d2025e6cc19",
   "metadata": {},
   "outputs": [
    {
     "name": "stdout",
     "output_type": "stream",
     "text": [
      "2.718281828459045\n"
     ]
    }
   ],
   "source": [
    "import math\n",
    "print(math.e)"
   ]
  },
  {
   "cell_type": "code",
   "execution_count": null,
   "id": "7dead4d0-cc94-4569-8773-7677968ea74e",
   "metadata": {},
   "outputs": [],
   "source": []
  },
  {
   "cell_type": "markdown",
   "id": "8d179db2-b00d-4f35-8dfe-dee798e996b8",
   "metadata": {},
   "source": [
    "# generate random floating-point numbers in [0, 1)"
   ]
  },
  {
   "cell_type": "code",
   "execution_count": 35,
   "id": "ddf1e873-e323-46cb-9bb9-e6c4023bfe7b",
   "metadata": {},
   "outputs": [
    {
     "name": "stdout",
     "output_type": "stream",
     "text": [
      "0.6398067502240389\n",
      "0.2566620037080892\n",
      "0.7479899024078672\n",
      "0.4992099157065525\n"
     ]
    }
   ],
   "source": [
    "import random\n",
    "\n",
    "print(random.random())\n",
    "print(random.random())\n",
    "print(random.random())\n",
    "print(random.random())"
   ]
  },
  {
   "cell_type": "code",
   "execution_count": null,
   "id": "0ecc1a9c-93cc-47cd-9638-de8d6e72e8df",
   "metadata": {},
   "outputs": [],
   "source": []
  },
  {
   "cell_type": "markdown",
   "id": "a3ba2c8d-4856-49f0-be2f-34cd665a828a",
   "metadata": {},
   "source": [
    "#  generate random integer numbers in [a, b]"
   ]
  },
  {
   "cell_type": "code",
   "execution_count": 36,
   "id": "5654beae-aa60-4754-a012-6ec74165f53a",
   "metadata": {},
   "outputs": [
    {
     "name": "stdout",
     "output_type": "stream",
     "text": [
      "9\n",
      "8\n",
      "7\n",
      "5\n",
      "6\n"
     ]
    }
   ],
   "source": [
    "import random\n",
    "\n",
    "print(random.randint(5,10))\n",
    "print(random.randint(5,10))\n",
    "print(random.randint(5,10))\n",
    "print(random.randint(5,10))\n",
    "print(random.randint(5,10))"
   ]
  },
  {
   "cell_type": "code",
   "execution_count": null,
   "id": "20fbead9-1882-4e2c-90d2-02ce3d473ec6",
   "metadata": {},
   "outputs": [],
   "source": []
  }
 ],
 "metadata": {
  "kernelspec": {
   "display_name": "Python 3 (ipykernel)",
   "language": "python",
   "name": "python3"
  },
  "language_info": {
   "codemirror_mode": {
    "name": "ipython",
    "version": 3
   },
   "file_extension": ".py",
   "mimetype": "text/x-python",
   "name": "python",
   "nbconvert_exporter": "python",
   "pygments_lexer": "ipython3",
   "version": "3.11.7"
  },
  "widgets": {
   "application/vnd.jupyter.widget-state+json": {
    "state": {},
    "version_major": 2,
    "version_minor": 0
   }
  }
 },
 "nbformat": 4,
 "nbformat_minor": 5
}
